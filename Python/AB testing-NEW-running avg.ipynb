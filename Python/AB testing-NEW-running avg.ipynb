{
 "cells": [
  {
   "cell_type": "code",
   "execution_count": null,
   "id": "79851371-9a86-49f4-bf29-6d28e10ba11a",
   "metadata": {},
   "outputs": [],
   "source": [
    "import glob\n",
    "import tqdm\n",
    "import random\n",
    "import pandas as pd\n",
    "import numpy as np"
   ]
  },
  {
   "cell_type": "code",
   "execution_count": null,
   "id": "252327fc-9a0b-414e-ba77-6c4001f97ff4",
   "metadata": {},
   "outputs": [],
   "source": [
    "from scipy import stats"
   ]
  },
  {
   "cell_type": "code",
   "execution_count": null,
   "id": "9e28759e-795b-493a-bfca-40497366ecf9",
   "metadata": {},
   "outputs": [],
   "source": [
    "from sklearn.metrics import ndcg_score, dcg_score, average_precision_score"
   ]
  },
  {
   "cell_type": "code",
   "execution_count": null,
   "id": "23607a0d-e814-498a-9aa9-47a0a6c6d00d",
   "metadata": {},
   "outputs": [],
   "source": [
    "dfis = []\n",
    "for fname in glob.glob('/Users/prashantbudania/Downloads/1bquxjob_day*'):\n",
    "    df_temp = pd.read_csv(fname)\n",
    "    df_temp['time_read'] = df_temp['time_read'].fillna(0)\n",
    "    dfis.append(df_temp)"
   ]
  },
  {
   "cell_type": "code",
   "execution_count": null,
   "id": "97d80a3d-f6cc-448c-b32e-220928e213e3",
   "metadata": {},
   "outputs": [],
   "source": [
    "len(dfis)"
   ]
  },
  {
   "cell_type": "code",
   "execution_count": null,
   "id": "aeecc5f0-ae45-408d-a0b0-53e6edf932df",
   "metadata": {},
   "outputs": [],
   "source": [
    "TIME_READ = 5"
   ]
  },
  {
   "cell_type": "code",
   "execution_count": null,
   "id": "6c6a3021-f6fa-458c-a1a4-c0779f433efa",
   "metadata": {},
   "outputs": [],
   "source": [
    "df_final = pd.concat(dfis, axis=0)"
   ]
  },
  {
   "cell_type": "code",
   "execution_count": null,
   "id": "8f7c77cf-5162-4f03-b645-a246c9a4cbed",
   "metadata": {},
   "outputs": [],
   "source": [
    "bm25_users_daily = []\n",
    "tfidf_users_daily = []\n",
    "bm25_dfs = []\n",
    "\n",
    "for dfi in dfis:\n",
    "    df_bm25_temp = dfi[dfi['is_bm25_active']==True]\n",
    "    bm25_users = set(df_bm25_temp['user_id'].unique().tolist())\n",
    "    \n",
    "    df_tfidf_temp = dfi[dfi['is_bm25_active']==False]\n",
    "    tfidf_users = [user for user in df_tfidf_temp['user_id'].unique().tolist() if user not in bm25_users]\n",
    "    \n",
    "    bm25_users_daily.append(bm25_users)\n",
    "    tfidf_users_daily.append(tfidf_users)\n",
    "    \n",
    "    bm25_dfs.append(df_bm25_temp)"
   ]
  },
  {
   "cell_type": "code",
   "execution_count": null,
   "id": "08fdb04a-3dbd-4e6a-8dda-b144f176bda2",
   "metadata": {},
   "outputs": [],
   "source": [
    "sum([len(x) for x in bm25_users_daily])"
   ]
  },
  {
   "cell_type": "code",
   "execution_count": null,
   "id": "b34316c1-479d-485d-bea1-8a8385386c88",
   "metadata": {},
   "outputs": [],
   "source": [
    "df_final['time_read'] = df_final['time_read'].fillna(0)"
   ]
  },
  {
   "cell_type": "code",
   "execution_count": null,
   "id": "fc85b463-d484-47f5-9ff6-fd3447cfecf2",
   "metadata": {},
   "outputs": [],
   "source": [
    "df_final['PageRead'] = df_final['PageRead'].fillna(1.5)"
   ]
  },
  {
   "cell_type": "code",
   "execution_count": null,
   "id": "8d4e30aa-9472-4451-85ca-e2e015bc2a20",
   "metadata": {},
   "outputs": [],
   "source": [
    "df_final['timeReadActive'] = df_final.apply(lambda x: x['time_read']/((x['PageRead'] or 1.5)**0.5), axis=1)"
   ]
  },
  {
   "cell_type": "code",
   "execution_count": null,
   "id": "272a49a3-e5f9-47ae-805a-faa6e6916b81",
   "metadata": {},
   "outputs": [],
   "source": [
    "df_final['normalized_time_score'] = df_final.apply(lambda x: x['timeReadActive']/(x['timeReadActive']+25), axis=1)"
   ]
  },
  {
   "cell_type": "code",
   "execution_count": null,
   "id": "51e30a60-5f7b-46b1-b903-c2426dea3455",
   "metadata": {},
   "outputs": [],
   "source": [
    "df_final = df_final.fillna(0)"
   ]
  },
  {
   "cell_type": "code",
   "execution_count": null,
   "id": "8a94f1b4-b9f7-4912-89cc-00175f769911",
   "metadata": {},
   "outputs": [],
   "source": [
    "df_final['final_score'] = df_final.apply(lambda x: 25*(x['normalized_time_score']+int(x['Download']>0)+int(x['CreateAnnotation']>0)+int(x['Print']>0)+int(x['CopyGeneratedDocUrl']>0)+int(x['DocumentBookmarking']>0)+int(x['CustomTagsUpdate']>0))+2*(int(x['StatementSelect']>0)+int(x['SearchWithinDocument']>0)) if (x['timeReadActive']>=5 or (int(x['Download']>0)+int(x['CreateAnnotation']>0)+int(x['Print']>0)+int(x['CopyGeneratedDocUrl']>0)+int(x['DocumentBookmarking']>0)+int(x['CustomTagsUpdate']>0))>0) else -1.0, axis=1)"
   ]
  },
  {
   "cell_type": "code",
   "execution_count": null,
   "id": "ed3efdcc-647c-446a-aefd-15c98004d57b",
   "metadata": {},
   "outputs": [],
   "source": [
    "df_final['gold_labels'] = df_final.apply(lambda x: 2 if x['final_score']>=10 else (1 if x['final_score']>0 else 0), axis=1)"
   ]
  },
  {
   "cell_type": "code",
   "execution_count": null,
   "id": "6540fb34-81d9-47ee-a730-4a25fec0a2fe",
   "metadata": {},
   "outputs": [],
   "source": [
    "df_final['is_relevant'] = df_final.apply(lambda x: 1 if x['final_score']>=10 else (1 if x['final_score']>0 else 0), axis=1)"
   ]
  },
  {
   "cell_type": "code",
   "execution_count": null,
   "id": "f2037f29-b27f-447d-9254-7f89fcc48966",
   "metadata": {},
   "outputs": [],
   "source": [
    "df_bm25 = df_final[df_final['is_bm25_active']==True]"
   ]
  },
  {
   "cell_type": "code",
   "execution_count": null,
   "id": "d54451ea-2568-4001-bc06-9f72f3de7890",
   "metadata": {},
   "outputs": [],
   "source": [
    "df_tfidf = df_final[df_final['is_bm25_active']==False]"
   ]
  },
  {
   "cell_type": "code",
   "execution_count": null,
   "id": "b042ffdb-e5e7-472f-8721-956cae2cf624",
   "metadata": {},
   "outputs": [],
   "source": [
    "df_bm25.shape, df_tfidf.shape"
   ]
  },
  {
   "cell_type": "code",
   "execution_count": null,
   "id": "9ff7793c-1e5d-49ec-af1a-3e5d7ec6893f",
   "metadata": {},
   "outputs": [],
   "source": [
    "BUCKET_MAP = {'1': 0, '2-3': 1, '4-5': 2, '6-10': 3, '11-20': 4, '21-inf': 5, 'ALL': 6}"
   ]
  },
  {
   "cell_type": "code",
   "execution_count": null,
   "id": "005b6584-d301-436f-8670-af54fc22912c",
   "metadata": {},
   "outputs": [],
   "source": [
    "bm25_sessions = [[],[],[],[],[],[],[]]\n",
    "bm25_document_clicks = [[],[],[],[],[],[],[]]\n",
    "bm25_median_time_read = [[],[],[],[],[],[],[]]\n",
    "bm25_unique_users = [[],[],[],[],[],[],[]]\n",
    "bm25_avg_rank = [[],[],[],[],[],[],[]]\n",
    "bm25_doc_clicks_with_dwell_time_less_than_5sec = [[],[],[],[],[],[],[]]\n",
    "\n",
    "bm25_percentage_clicks_in_top3_leading_to_insights = [[],[],[],[],[],[],[]]\n",
    "bm25_percentage_clicks_in_top5_leading_to_insights = [[],[],[],[],[],[],[]]\n",
    "bm25_percentage_clicks_in_top10_leading_to_insights = [[],[],[],[],[],[],[]]\n",
    "bm25_percentage_clicks_in_top20_leading_to_insights = [[],[],[],[],[],[],[]]\n",
    "\n",
    "bm25_percentage_clicks_in_top3 = [[],[],[],[],[],[],[]]\n",
    "bm25_percentage_clicks_in_top5 = [[],[],[],[],[],[],[]]\n",
    "bm25_percentage_clicks_in_top10 = [[],[],[],[],[],[],[]]\n",
    "bm25_percentage_clicks_in_top20 = [[],[],[],[],[],[],[]]\n",
    "\n",
    "bm25_ndcg_5 = [[],[],[],[],[],[],[]]\n",
    "bm25_ndcg_10 = [[],[],[],[],[],[],[]]\n",
    "bm25_ndcg_20 = [[],[],[],[],[],[],[]]\n",
    "\n",
    "bm25_average_precision = [[],[],[],[],[],[],[]]\n",
    "\n",
    "bm25_total_insights = 0\n",
    "bm25_clicks_to_insights = []\n",
    "\n",
    "for search_session in df_bm25['search_context'].unique().tolist():\n",
    "    \n",
    "    df_temp = df_bm25[df_bm25['search_context']==search_session]\n",
    "    NUM = df_temp.shape[0]\n",
    "    \n",
    "    df_insights = df_temp[df_temp['time_read']>=5]\n",
    "    INSIGHTS = df_insights.shape[0]\n",
    "    bm25_total_insights += INSIGHTS\n",
    "    \n",
    "    insight_positions = df_insights['position_for_score_desc'].tolist()\n",
    "    click_positions = df_temp['position_for_score_desc'].tolist()\n",
    "    if insight_positions:\n",
    "        first_insight_position = min(insight_positions)\n",
    "        for idx, pos in enumerate(click_positions):\n",
    "            if pos == first_insight_position:\n",
    "                bm25_clicks_to_insights.append(idx)\n",
    "                break\n",
    "    \n",
    "    if NUM == 1:\n",
    "        bucket_id = '1'    \n",
    "    \n",
    "    elif NUM <= 3:\n",
    "        bucket_id = '2-3'\n",
    "        \n",
    "    elif NUM <= 5:\n",
    "        bucket_id = '4-5'\n",
    "        \n",
    "    elif NUM <= 10:\n",
    "        bucket_id = '6-10'\n",
    "        \n",
    "    elif NUM <= 20:\n",
    "        bucket_id = '11-20'\n",
    "\n",
    "    else:\n",
    "        bucket_id = '21-inf'\n",
    "    \n",
    "    session = 1\n",
    "    median_time_read = np.median(df_temp['time_read'].tolist())\n",
    "    unique_users = df_temp['user_id'].unique().tolist()\n",
    "    avg_rank = df_temp['position_for_score_desc'].sum()/NUM\n",
    "    doc_clicks_with_dwell_time_less_than_5sec = df_temp[df_temp['time_read']<5].shape[0]/NUM\n",
    "    \n",
    "    unique_clicks3 = [x<=3 for x in list(set(df_temp['position_for_score_desc'].tolist()))]\n",
    "    unique_clicks5 = [x<=5 for x in list(set(df_temp['position_for_score_desc'].tolist()))]\n",
    "    unique_clicks10 = [x<=10 for x in list(set(df_temp['position_for_score_desc'].tolist()))]\n",
    "    unique_clicks20 = [x<=20 for x in list(set(df_temp['position_for_score_desc'].tolist()))]\n",
    "    \n",
    "    unique_insights3 = [x<=3 for x in list(set(df_insights['position_for_score_desc'].tolist()))]\n",
    "    unique_insights5 = [x<=5 for x in list(set(df_insights['position_for_score_desc'].tolist()))]\n",
    "    unique_insights10 = [x<=10 for x in list(set(df_insights['position_for_score_desc'].tolist()))]\n",
    "    unique_insights20 = [x<=20 for x in list(set(df_insights['position_for_score_desc'].tolist()))]\n",
    "    \n",
    "    percentage_clicks_in_top3 = sum(unique_clicks3)/min(len(unique_clicks3),3)\n",
    "    percentage_clicks_in_top5 = sum(unique_clicks5)/min(len(unique_clicks5),5)\n",
    "    percentage_clicks_in_top10 = sum(unique_clicks10)/min(len(unique_clicks10),10)\n",
    "    percentage_clicks_in_top20 = sum(unique_clicks20)/min(len(unique_clicks20),20)\n",
    "    \n",
    "    percentage_clicks_in_top3_leading_to_insights = sum(unique_insights3)/min(len(unique_clicks3),3)\n",
    "    percentage_clicks_in_top5_leading_to_insights = sum(unique_insights5)/min(len(unique_clicks5),5)\n",
    "    percentage_clicks_in_top10_leading_to_insights = sum(unique_insights10)/min(len(unique_clicks10),10)\n",
    "    percentage_clicks_in_top20_leading_to_insights = sum(unique_insights20)/min(len(unique_clicks20),20)\n",
    "\n",
    "    \n",
    "    average_precision = average_precision_score(df_temp['is_relevant'].tolist(), [1000-x for x in df_temp['position_for_score_desc'].tolist()])\n",
    "    \n",
    "    \n",
    "    if df_temp['position_for_score_desc'].max() >= 2:\n",
    "        temp = [0]*5\n",
    "        for idx in range(df_temp.shape[0]):\n",
    "            row = df_temp.iloc[idx,:]\n",
    "            if row['position_for_score_desc'] <= 5:\n",
    "                temp[row['position_for_score_desc']-1] = max(row['gold_labels'], temp[row['position_for_score_desc']-1])\n",
    "\n",
    "        if sum(temp) != 0:\n",
    "            bm25_ndcg_5[BUCKET_MAP[bucket_id]].append(temp)\n",
    "            bm25_ndcg_5[BUCKET_MAP['ALL']].append(temp)\n",
    "\n",
    "        temp = [0]*10\n",
    "        for idx in range(df_temp.shape[0]):\n",
    "            row = df_temp.iloc[idx,:]\n",
    "            if row['position_for_score_desc'] <= 10:\n",
    "                temp[row['position_for_score_desc']-1] = max(row['gold_labels'], temp[row['position_for_score_desc']-1])\n",
    "\n",
    "        if sum(temp) != 0:\n",
    "            bm25_ndcg_10[BUCKET_MAP[bucket_id]].append(temp)\n",
    "            bm25_ndcg_10[BUCKET_MAP['ALL']].append(temp)\n",
    "\n",
    "        temp = [0]*20\n",
    "        for idx in range(df_temp.shape[0]):\n",
    "            row = df_temp.iloc[idx,:]\n",
    "            if row['position_for_score_desc'] <= 20:\n",
    "                temp[row['position_for_score_desc']-1] = max(row['gold_labels'], temp[row['position_for_score_desc']-1])\n",
    "\n",
    "        if sum(temp) != 0:\n",
    "            bm25_ndcg_20[BUCKET_MAP[bucket_id]].append(temp)\n",
    "            bm25_ndcg_20[BUCKET_MAP['ALL']].append(temp)\n",
    "    \n",
    "    \n",
    "    for bucket in [bucket_id, 'ALL']:\n",
    "    \n",
    "        bm25_sessions[BUCKET_MAP[bucket]].append(session)\n",
    "        bm25_document_clicks[BUCKET_MAP[bucket]].append(NUM)\n",
    "        bm25_median_time_read[BUCKET_MAP[bucket]].append(median_time_read)\n",
    "        bm25_unique_users[BUCKET_MAP[bucket]] += unique_users\n",
    "        bm25_avg_rank[BUCKET_MAP[bucket]].append(avg_rank)\n",
    "        bm25_doc_clicks_with_dwell_time_less_than_5sec[BUCKET_MAP[bucket]].append(doc_clicks_with_dwell_time_less_than_5sec)\n",
    "\n",
    "        bm25_percentage_clicks_in_top3_leading_to_insights[BUCKET_MAP[bucket]].append(percentage_clicks_in_top3_leading_to_insights)\n",
    "        bm25_percentage_clicks_in_top5_leading_to_insights[BUCKET_MAP[bucket]].append(percentage_clicks_in_top5_leading_to_insights)\n",
    "        bm25_percentage_clicks_in_top10_leading_to_insights[BUCKET_MAP[bucket]].append(percentage_clicks_in_top10_leading_to_insights)\n",
    "        bm25_percentage_clicks_in_top20_leading_to_insights[BUCKET_MAP[bucket]].append(percentage_clicks_in_top20_leading_to_insights)\n",
    "\n",
    "        bm25_percentage_clicks_in_top3[BUCKET_MAP[bucket]].append(percentage_clicks_in_top3)\n",
    "        bm25_percentage_clicks_in_top5[BUCKET_MAP[bucket]].append(percentage_clicks_in_top5)\n",
    "        bm25_percentage_clicks_in_top10[BUCKET_MAP[bucket]].append(percentage_clicks_in_top10)\n",
    "        bm25_percentage_clicks_in_top20[BUCKET_MAP[bucket]].append(percentage_clicks_in_top20)\n",
    "        \n",
    "        if not np.isnan(average_precision):\n",
    "            bm25_average_precision[BUCKET_MAP[bucket]].append(average_precision)\n"
   ]
  },
  {
   "cell_type": "code",
   "execution_count": null,
   "id": "b0ff4329-972e-4577-ae0c-29fc5ce67f6d",
   "metadata": {},
   "outputs": [],
   "source": [
    "tfidf_sessions = [[],[],[],[],[],[],[]]\n",
    "tfidf_document_clicks = [[],[],[],[],[],[],[]]\n",
    "tfidf_median_time_read = [[],[],[],[],[],[],[]]\n",
    "tfidf_unique_users = [[],[],[],[],[],[],[]]\n",
    "tfidf_avg_rank = [[],[],[],[],[],[],[]]\n",
    "tfidf_doc_clicks_with_dwell_time_less_than_5sec = [[],[],[],[],[],[],[]]\n",
    "\n",
    "tfidf_percentage_clicks_in_top3 = [[],[],[],[],[],[],[]]\n",
    "tfidf_percentage_clicks_in_top5 = [[],[],[],[],[],[],[]]\n",
    "tfidf_percentage_clicks_in_top10 = [[],[],[],[],[],[],[]]\n",
    "tfidf_percentage_clicks_in_top20 = [[],[],[],[],[],[],[]]\n",
    "\n",
    "tfidf_percentage_clicks_in_top3_leading_to_insights = [[],[],[],[],[],[],[]]\n",
    "tfidf_percentage_clicks_in_top5_leading_to_insights = [[],[],[],[],[],[],[]]\n",
    "tfidf_percentage_clicks_in_top10_leading_to_insights = [[],[],[],[],[],[],[]]\n",
    "tfidf_percentage_clicks_in_top20_leading_to_insights = [[],[],[],[],[],[],[]]\n",
    "\n",
    "\n",
    "tfidf_ndcg_5 = [[],[],[],[],[],[],[]]\n",
    "tfidf_ndcg_10 = [[],[],[],[],[],[],[]]\n",
    "tfidf_ndcg_20 = [[],[],[],[],[],[],[]]\n",
    "\n",
    "tfidf_average_precision = [[],[],[],[],[],[],[]]\n",
    "\n",
    "tfidf_total_insights = 0\n",
    "tfidf_clicks_to_insights = []\n",
    "\n",
    "\n",
    "for search_session in df_tfidf['search_context'].unique().tolist():\n",
    "    \n",
    "    df_temp = df_tfidf[df_tfidf['search_context']==search_session]\n",
    "    NUM = df_temp.shape[0]\n",
    "    \n",
    "    df_insights = df_temp[df_temp['time_read']>=5]\n",
    "    INSIGHTS = df_insights.shape[0]\n",
    "    tfidf_total_insights += INSIGHTS\n",
    "    \n",
    "    insight_positions = df_insights['position_for_score_desc'].tolist()\n",
    "    click_positions = df_temp['position_for_score_desc'].tolist()\n",
    "    if insight_positions:\n",
    "        first_insight_position = min(insight_positions)\n",
    "        for idx, pos in enumerate(click_positions):\n",
    "            if pos == first_insight_position:\n",
    "                tfidf_clicks_to_insights.append(idx)\n",
    "                break\n",
    "    \n",
    "    if NUM == 1:\n",
    "        bucket_id = '1'    \n",
    "    \n",
    "    elif NUM <= 3:\n",
    "        bucket_id = '2-3'\n",
    "        \n",
    "    elif NUM <= 5:\n",
    "        bucket_id = '4-5'\n",
    "        \n",
    "    elif NUM <= 10:\n",
    "        bucket_id = '6-10'\n",
    "        \n",
    "    elif NUM <= 20:\n",
    "        bucket_id = '11-20'\n",
    "\n",
    "    else:\n",
    "        bucket_id = '21-inf'\n",
    "    \n",
    "    session = 1\n",
    "    median_time_read = np.median(df_temp['time_read'].tolist())\n",
    "    unique_users = df_temp['user_id'].unique().tolist()\n",
    "    avg_rank = df_temp['position_for_score_desc'].sum()/NUM\n",
    "    doc_clicks_with_dwell_time_less_than_5sec = df_temp[df_temp['time_read']<5].shape[0]/NUM\n",
    "    \n",
    "    unique_clicks3 = [x<=3 for x in list(set(df_temp['position_for_score_desc'].tolist()))]\n",
    "    unique_clicks5 = [x<=5 for x in list(set(df_temp['position_for_score_desc'].tolist()))]\n",
    "    unique_clicks10 = [x<=10 for x in list(set(df_temp['position_for_score_desc'].tolist()))]\n",
    "    unique_clicks20 = [x<=20 for x in list(set(df_temp['position_for_score_desc'].tolist()))]\n",
    "    \n",
    "    unique_insights3 = [x<=3 for x in list(set(df_insights['position_for_score_desc'].tolist()))]\n",
    "    unique_insights5 = [x<=5 for x in list(set(df_insights['position_for_score_desc'].tolist()))]\n",
    "    unique_insights10 = [x<=10 for x in list(set(df_insights['position_for_score_desc'].tolist()))]\n",
    "    unique_insights20 = [x<=20 for x in list(set(df_insights['position_for_score_desc'].tolist()))]\n",
    "    \n",
    "    percentage_clicks_in_top3 = sum(unique_clicks3)/min(len(unique_clicks3),3)\n",
    "    percentage_clicks_in_top5 = sum(unique_clicks5)/min(len(unique_clicks5),5)\n",
    "    percentage_clicks_in_top10 = sum(unique_clicks10)/min(len(unique_clicks10),10)\n",
    "    percentage_clicks_in_top20 = sum(unique_clicks20)/min(len(unique_clicks20),20)\n",
    "    \n",
    "    percentage_clicks_in_top3_leading_to_insights = sum(unique_insights3)/min(len(unique_clicks3),3)\n",
    "    percentage_clicks_in_top5_leading_to_insights = sum(unique_insights5)/min(len(unique_clicks5),5)\n",
    "    percentage_clicks_in_top10_leading_to_insights = sum(unique_insights10)/min(len(unique_clicks10),10)\n",
    "    percentage_clicks_in_top20_leading_to_insights = sum(unique_insights20)/min(len(unique_clicks20),20)\n",
    "\n",
    "    \n",
    "    average_precision = average_precision_score(df_temp['is_relevant'].tolist(), [1000-x for x in df_temp['position_for_score_desc'].tolist()])\n",
    "    \n",
    "    \n",
    "    if df_temp['position_for_score_desc'].max() >= 2:\n",
    "        temp = [0]*5\n",
    "        for idx in range(df_temp.shape[0]):\n",
    "            row = df_temp.iloc[idx,:]\n",
    "            if row['position_for_score_desc'] <= 5:\n",
    "                temp[row['position_for_score_desc']-1] = max(row['gold_labels'], temp[row['position_for_score_desc']-1])\n",
    "\n",
    "        if sum(temp) != 0:\n",
    "            tfidf_ndcg_5[BUCKET_MAP[bucket_id]].append(temp)\n",
    "            tfidf_ndcg_5[BUCKET_MAP['ALL']].append(temp)\n",
    "\n",
    "        temp = [0]*10\n",
    "        for idx in range(df_temp.shape[0]):\n",
    "            row = df_temp.iloc[idx,:]\n",
    "            if row['position_for_score_desc'] <= 10:\n",
    "                temp[row['position_for_score_desc']-1] = max(row['gold_labels'], temp[row['position_for_score_desc']-1])\n",
    "\n",
    "        if sum(temp) != 0:\n",
    "            tfidf_ndcg_10[BUCKET_MAP[bucket_id]].append(temp)\n",
    "            tfidf_ndcg_10[BUCKET_MAP['ALL']].append(temp)\n",
    "\n",
    "        temp = [0]*20\n",
    "        for idx in range(df_temp.shape[0]):\n",
    "            row = df_temp.iloc[idx,:]\n",
    "            if row['position_for_score_desc'] <= 20:\n",
    "                temp[row['position_for_score_desc']-1] = max(row['gold_labels'], temp[row['position_for_score_desc']-1])\n",
    "\n",
    "        if sum(temp) != 0:\n",
    "            tfidf_ndcg_20[BUCKET_MAP[bucket_id]].append(temp)\n",
    "            tfidf_ndcg_20[BUCKET_MAP['ALL']].append(temp)\n",
    "    \n",
    "    \n",
    "    for bucket in [bucket_id, 'ALL']:\n",
    "    \n",
    "        tfidf_sessions[BUCKET_MAP[bucket]].append(session)\n",
    "        tfidf_document_clicks[BUCKET_MAP[bucket]].append(NUM)\n",
    "        tfidf_median_time_read[BUCKET_MAP[bucket]].append(median_time_read)\n",
    "        tfidf_unique_users[BUCKET_MAP[bucket]] += unique_users\n",
    "        tfidf_avg_rank[BUCKET_MAP[bucket]].append(avg_rank)\n",
    "        tfidf_doc_clicks_with_dwell_time_less_than_5sec[BUCKET_MAP[bucket]].append(doc_clicks_with_dwell_time_less_than_5sec)\n",
    "\n",
    "        tfidf_percentage_clicks_in_top3_leading_to_insights[BUCKET_MAP[bucket]].append(percentage_clicks_in_top3_leading_to_insights)\n",
    "        tfidf_percentage_clicks_in_top5_leading_to_insights[BUCKET_MAP[bucket]].append(percentage_clicks_in_top5_leading_to_insights)\n",
    "        tfidf_percentage_clicks_in_top10_leading_to_insights[BUCKET_MAP[bucket]].append(percentage_clicks_in_top10_leading_to_insights)\n",
    "        tfidf_percentage_clicks_in_top20_leading_to_insights[BUCKET_MAP[bucket]].append(percentage_clicks_in_top20_leading_to_insights)\n",
    "\n",
    "        tfidf_percentage_clicks_in_top3[BUCKET_MAP[bucket]].append(percentage_clicks_in_top3)\n",
    "        tfidf_percentage_clicks_in_top5[BUCKET_MAP[bucket]].append(percentage_clicks_in_top5)\n",
    "        tfidf_percentage_clicks_in_top10[BUCKET_MAP[bucket]].append(percentage_clicks_in_top10)\n",
    "        tfidf_percentage_clicks_in_top20[BUCKET_MAP[bucket]].append(percentage_clicks_in_top20)\n",
    "        \n",
    "        if not np.isnan(average_precision):\n",
    "            tfidf_average_precision[BUCKET_MAP[bucket]].append(average_precision)\n",
    "    "
   ]
  },
  {
   "cell_type": "code",
   "execution_count": null,
   "id": "cc54c197-159b-432d-937f-293d85a63681",
   "metadata": {},
   "outputs": [],
   "source": [
    "metric_scores = []"
   ]
  },
  {
   "cell_type": "code",
   "execution_count": null,
   "id": "85b772f3-a0d2-4ce0-8569-e7143e2b364a",
   "metadata": {},
   "outputs": [],
   "source": [
    "metric_scores.append(['Total # of sessions']+[(sum(bm25_sessions[idx]), sum(tfidf_sessions[idx])) for idx in range(7)])"
   ]
  },
  {
   "cell_type": "code",
   "execution_count": null,
   "id": "c438022a-b820-4862-8412-c08b86e53e31",
   "metadata": {},
   "outputs": [],
   "source": [
    "metric_scores.append(['% of ALL sessions']+[(float('{:.3f}'.format(100*sum(bm25_sessions[idx])/sum(bm25_sessions[-1]))), float('{:.3f}'.format(100*sum(tfidf_sessions[idx])/sum(tfidf_sessions[-1])))) for idx in range(7)])"
   ]
  },
  {
   "cell_type": "code",
   "execution_count": null,
   "id": "af5894f2-3f4f-47fe-9e71-d47f29152044",
   "metadata": {},
   "outputs": [],
   "source": [
    "metric_scores.append(['Total # of document clicks']+[(sum(bm25_document_clicks[idx]), sum(tfidf_document_clicks[idx])) for idx in range(7)])"
   ]
  },
  {
   "cell_type": "code",
   "execution_count": null,
   "id": "c36ab313-ad61-412b-a81f-3bf19106cf51",
   "metadata": {},
   "outputs": [],
   "source": [
    "metric_scores.append(['% of ALL document clicks']+[(float('{:.3f}'.format(100*sum(bm25_document_clicks[idx])/sum(bm25_document_clicks[-1]))), float('{:.3f}'.format(100*sum(tfidf_document_clicks[idx])/sum(tfidf_document_clicks[-1])))) for idx in range(7)])"
   ]
  },
  {
   "cell_type": "code",
   "execution_count": null,
   "id": "2433b458-5298-4a1c-89e0-abc1cc270b32",
   "metadata": {},
   "outputs": [],
   "source": [
    "metric_scores.append(['# of unique Users']+[(len(set(bm25_unique_users[idx])), len(set(tfidf_unique_users[idx]))) for idx in range(7)])"
   ]
  },
  {
   "cell_type": "code",
   "execution_count": null,
   "id": "8604316d-3a6a-408d-bc67-1a82c174d8f1",
   "metadata": {},
   "outputs": [],
   "source": [
    "metric_scores.append(['% of ALL Users']+[(float('{:.3f}'.format(100*len(set(bm25_unique_users[idx]))/len(set(bm25_unique_users[-1])))), float('{:.3f}'.format(100*len(set(tfidf_unique_users[idx]))/len(set(tfidf_unique_users[-1]))))) for idx in range(7)])"
   ]
  },
  {
   "cell_type": "code",
   "execution_count": null,
   "id": "bb0bde9e-5395-4108-8cf4-9010ad3e81eb",
   "metadata": {},
   "outputs": [],
   "source": [
    "metric_scores.append(['Median Time Read (sec)']+[(float('{:.3f}'.format(np.mean(bm25_median_time_read[idx]))), float('{:.3f}'.format(np.mean(tfidf_median_time_read[idx])))) for idx in range(7)])"
   ]
  },
  {
   "cell_type": "code",
   "execution_count": null,
   "id": "46ed3d47-8274-4a43-9db6-633521115fb6",
   "metadata": {},
   "outputs": [],
   "source": [
    "metric_scores.append(['', '', '', '', '', '', '', ''])"
   ]
  },
  {
   "cell_type": "code",
   "execution_count": null,
   "id": "9e21f315-4b10-4e48-88fc-1a6c66470461",
   "metadata": {},
   "outputs": [],
   "source": [
    "metric_scores.append(['Avg Position/Rank']+[('{:.3f}'.format(np.mean(bm25_avg_rank[idx]))+'±'+'{:.3f}'.format(np.std(bm25_avg_rank[idx])), '{:.3f}'.format(np.mean(tfidf_avg_rank[idx]))+'±'+'{:.3f}'.format(np.std(tfidf_avg_rank[idx])), float('{:.4f}'.format(stats.ttest_ind(tfidf_avg_rank[idx],bm25_avg_rank[idx],equal_var=False).pvalue))) for idx in range(7)])"
   ]
  },
  {
   "cell_type": "code",
   "execution_count": null,
   "id": "b1a559af-2e41-48df-adf7-0ed3251e92a7",
   "metadata": {},
   "outputs": [],
   "source": [
    "metric_scores.append(['% Clicks w/ dwell time < 5sec']+[('{:.3f}'.format(100*np.mean(bm25_doc_clicks_with_dwell_time_less_than_5sec[idx]))+'±'+'{:.3f}'.format(100*np.std(bm25_doc_clicks_with_dwell_time_less_than_5sec[idx])), '{:.3f}'.format(100*np.mean(tfidf_doc_clicks_with_dwell_time_less_than_5sec[idx]))+'±'+'{:.3f}'.format(100*np.std(tfidf_doc_clicks_with_dwell_time_less_than_5sec[idx])), float('{:.4f}'.format(stats.ttest_ind(tfidf_doc_clicks_with_dwell_time_less_than_5sec[idx],bm25_doc_clicks_with_dwell_time_less_than_5sec[idx],equal_var=False).pvalue))) for idx in range(7)])"
   ]
  },
  {
   "cell_type": "code",
   "execution_count": null,
   "id": "20154445-8c20-4dd6-b55f-7db34d1fb159",
   "metadata": {},
   "outputs": [],
   "source": [
    "metric_scores.append(['', '', '', '', '', '', '', ''])"
   ]
  },
  {
   "cell_type": "code",
   "execution_count": null,
   "id": "0635ea03-6acb-41f7-be5e-2d2a9cda9481",
   "metadata": {},
   "outputs": [],
   "source": [
    "metric_scores.append(['% All Clicks in Top 3 Positions']+[('{:.3f}'.format(100*np.mean(bm25_percentage_clicks_in_top3[idx]))+'±'+'{:.3f}'.format(100*np.std(bm25_percentage_clicks_in_top3[idx])), '{:.3f}'.format(100*np.mean(tfidf_percentage_clicks_in_top3[idx]))+'±'+'{:.3f}'.format(100*np.std(tfidf_percentage_clicks_in_top3[idx])), float('{:.4f}'.format(stats.ttest_ind(tfidf_percentage_clicks_in_top3[idx],bm25_percentage_clicks_in_top3[idx],equal_var=False).pvalue))) for idx in range(7)])"
   ]
  },
  {
   "cell_type": "code",
   "execution_count": null,
   "id": "3d529601-b9cc-4e8d-8a35-47de0203c2f8",
   "metadata": {},
   "outputs": [],
   "source": [
    "metric_scores.append(['% All Clicks in Top 5 Positions']+[('{:.3f}'.format(100*np.mean(bm25_percentage_clicks_in_top5[idx]))+'±'+'{:.3f}'.format(100*np.std(bm25_percentage_clicks_in_top5[idx])), '{:.3f}'.format(100*np.mean(tfidf_percentage_clicks_in_top5[idx]))+'±'+'{:.3f}'.format(100*np.std(tfidf_percentage_clicks_in_top5[idx])), float('{:.4f}'.format(stats.ttest_ind(tfidf_percentage_clicks_in_top5[idx],bm25_percentage_clicks_in_top5[idx],equal_var=False).pvalue))) for idx in range(7)])"
   ]
  },
  {
   "cell_type": "code",
   "execution_count": null,
   "id": "9dab8f90-4c05-4342-8d6c-7a38e4eaa7b0",
   "metadata": {},
   "outputs": [],
   "source": [
    "metric_scores.append(['% All Clicks in Top 10 Positions']+[('{:.3f}'.format(100*np.mean(bm25_percentage_clicks_in_top10[idx]))+'±'+'{:.3f}'.format(100*np.std(bm25_percentage_clicks_in_top10[idx])), '{:.3f}'.format(100*np.mean(tfidf_percentage_clicks_in_top10[idx]))+'±'+'{:.3f}'.format(100*np.std(tfidf_percentage_clicks_in_top10[idx])), float('{:.4f}'.format(stats.ttest_ind(tfidf_percentage_clicks_in_top10[idx],bm25_percentage_clicks_in_top10[idx],equal_var=False).pvalue))) for idx in range(7)])"
   ]
  },
  {
   "cell_type": "code",
   "execution_count": null,
   "id": "431af654-da5e-453e-95db-0ff2ac66bbd5",
   "metadata": {},
   "outputs": [],
   "source": [
    "metric_scores.append(['% All Clicks in Top 20 Positions']+[('{:.3f}'.format(100*np.mean(bm25_percentage_clicks_in_top20[idx]))+'±'+'{:.3f}'.format(100*np.std(bm25_percentage_clicks_in_top20[idx])), '{:.3f}'.format(100*np.mean(tfidf_percentage_clicks_in_top20[idx]))+'±'+'{:.3f}'.format(100*np.std(tfidf_percentage_clicks_in_top20[idx])), float('{:.4f}'.format(stats.ttest_ind(tfidf_percentage_clicks_in_top20[idx],bm25_percentage_clicks_in_top20[idx],equal_var=False).pvalue))) for idx in range(7)])"
   ]
  },
  {
   "cell_type": "code",
   "execution_count": null,
   "id": "a3bcea44-60f6-474f-a0e2-bb51adc920e9",
   "metadata": {},
   "outputs": [],
   "source": [
    "metric_scores.append(['', '', '', '', '', '', '', ''])"
   ]
  },
  {
   "cell_type": "code",
   "execution_count": null,
   "id": "6958d344-2d33-4a21-b91d-38cf5d5ed434",
   "metadata": {},
   "outputs": [],
   "source": [
    "metric_scores.append(['% Clicks in Top 3 Positions Leading to Insights']+[('{:.3f}'.format(100*np.mean(bm25_percentage_clicks_in_top3_leading_to_insights[idx]))+'±'+'{:.3f}'.format(100*np.std(bm25_percentage_clicks_in_top3_leading_to_insights[idx])), '{:.3f}'.format(100*np.mean(tfidf_percentage_clicks_in_top3_leading_to_insights[idx]))+'±'+'{:.3f}'.format(100*np.std(tfidf_percentage_clicks_in_top3_leading_to_insights[idx])), float('{:.4f}'.format(stats.ttest_ind(tfidf_percentage_clicks_in_top3_leading_to_insights[idx],bm25_percentage_clicks_in_top3_leading_to_insights[idx],equal_var=False).pvalue))) for idx in range(7)])\n"
   ]
  },
  {
   "cell_type": "code",
   "execution_count": null,
   "id": "a67af106-4358-47b6-ac8d-69b9fd903332",
   "metadata": {},
   "outputs": [],
   "source": [
    "metric_scores.append(['% Clicks in Top 5 Positions Leading to Insights']+[('{:.3f}'.format(100*np.mean(bm25_percentage_clicks_in_top5_leading_to_insights[idx]))+'±'+'{:.3f}'.format(100*np.std(bm25_percentage_clicks_in_top5_leading_to_insights[idx])), '{:.3f}'.format(100*np.mean(tfidf_percentage_clicks_in_top5_leading_to_insights[idx]))+'±'+'{:.3f}'.format(100*np.std(tfidf_percentage_clicks_in_top5_leading_to_insights[idx])), float('{:.4f}'.format(stats.ttest_ind(tfidf_percentage_clicks_in_top5_leading_to_insights[idx],bm25_percentage_clicks_in_top5_leading_to_insights[idx],equal_var=False).pvalue))) for idx in range(7)])\n"
   ]
  },
  {
   "cell_type": "code",
   "execution_count": null,
   "id": "bf69c5fe-51f7-4903-acc8-7eca244d6ac7",
   "metadata": {},
   "outputs": [],
   "source": [
    "metric_scores.append(['% Clicks in Top 10 Positions Leading to Insights']+[('{:.3f}'.format(100*np.mean(bm25_percentage_clicks_in_top10_leading_to_insights[idx]))+'±'+'{:.3f}'.format(100*np.std(bm25_percentage_clicks_in_top10_leading_to_insights[idx])), '{:.3f}'.format(100*np.mean(tfidf_percentage_clicks_in_top10_leading_to_insights[idx]))+'±'+'{:.3f}'.format(100*np.std(tfidf_percentage_clicks_in_top10_leading_to_insights[idx])), float('{:.4f}'.format(stats.ttest_ind(tfidf_percentage_clicks_in_top10_leading_to_insights[idx],bm25_percentage_clicks_in_top10_leading_to_insights[idx],equal_var=False).pvalue))) for idx in range(7)])\n"
   ]
  },
  {
   "cell_type": "code",
   "execution_count": null,
   "id": "fc5c1ad2-5ab1-469e-bbcf-8718f249c442",
   "metadata": {},
   "outputs": [],
   "source": [
    "metric_scores.append(['% Clicks in Top 20 Positions Leading to Insights']+[('{:.3f}'.format(100*np.mean(bm25_percentage_clicks_in_top20_leading_to_insights[idx]))+'±'+'{:.3f}'.format(100*np.std(bm25_percentage_clicks_in_top20_leading_to_insights[idx])), '{:.3f}'.format(100*np.mean(tfidf_percentage_clicks_in_top20_leading_to_insights[idx]))+'±'+'{:.3f}'.format(100*np.std(tfidf_percentage_clicks_in_top20_leading_to_insights[idx])), float('{:.4f}'.format(stats.ttest_ind(tfidf_percentage_clicks_in_top20_leading_to_insights[idx],bm25_percentage_clicks_in_top20_leading_to_insights[idx],equal_var=False).pvalue))) for idx in range(7)])\n"
   ]
  },
  {
   "cell_type": "code",
   "execution_count": null,
   "id": "c67c10c7-dfdb-4f9a-8e96-710568739c30",
   "metadata": {},
   "outputs": [],
   "source": [
    "metric_scores.append(['', '', '', '', '', '', '', ''])"
   ]
  },
  {
   "cell_type": "code",
   "execution_count": null,
   "id": "0b8b1770-8c11-471d-a3e1-005b1ef443a7",
   "metadata": {},
   "outputs": [],
   "source": [
    "N=5\n",
    "metric_scores.append([f'nDCG@{N}'])\n",
    "\n",
    "for idx in range(7):\n",
    "    bm25_ndcg = [ndcg_score([ndcg_session], [list(range(N))[::-1]]) for ndcg_session in bm25_ndcg_5[idx]]\n",
    "    tfidf_ndcg = [ndcg_score([ndcg_session], [list(range(N))[::-1]]) for ndcg_session in tfidf_ndcg_5[idx]]\n",
    "\n",
    "    metric_scores[-1].append(('{:.3f}'.format(np.mean(bm25_ndcg))+'±'+'{:.3f}'.format(np.std(bm25_ndcg)), '{:.3f}'.format(np.mean(tfidf_ndcg))+'±'+'{:.3f}'.format(np.std(tfidf_ndcg)), float('{:.4f}'.format(stats.ttest_ind(tfidf_ndcg,bm25_ndcg,equal_var=False).pvalue))))\n"
   ]
  },
  {
   "cell_type": "code",
   "execution_count": null,
   "id": "665b3741-a000-4f02-bcab-7473793662a1",
   "metadata": {},
   "outputs": [],
   "source": [
    "N=10\n",
    "metric_scores.append([f'nDCG@{N}'])\n",
    "\n",
    "for idx in range(7):\n",
    "    bm25_ndcg = [ndcg_score([ndcg_session], [list(range(N))[::-1]]) for ndcg_session in bm25_ndcg_10[idx]]\n",
    "    tfidf_ndcg = [ndcg_score([ndcg_session], [list(range(N))[::-1]]) for ndcg_session in tfidf_ndcg_10[idx]]\n",
    "\n",
    "    metric_scores[-1].append(('{:.3f}'.format(np.mean(bm25_ndcg))+'±'+'{:.3f}'.format(np.std(bm25_ndcg)), '{:.3f}'.format(np.mean(tfidf_ndcg))+'±'+'{:.3f}'.format(np.std(tfidf_ndcg)), float('{:.4f}'.format(stats.ttest_ind(tfidf_ndcg,bm25_ndcg,equal_var=False).pvalue))))\n"
   ]
  },
  {
   "cell_type": "code",
   "execution_count": null,
   "id": "4ef5dc4a-bd64-44f7-b18c-ae3193a1532f",
   "metadata": {},
   "outputs": [],
   "source": [
    "N=20\n",
    "metric_scores.append([f'nDCG@{N}'])\n",
    "\n",
    "for idx in range(7):\n",
    "    bm25_ndcg = [ndcg_score([ndcg_session], [list(range(N))[::-1]]) for ndcg_session in bm25_ndcg_20[idx]]\n",
    "    tfidf_ndcg = [ndcg_score([ndcg_session], [list(range(N))[::-1]]) for ndcg_session in tfidf_ndcg_20[idx]]\n",
    "\n",
    "    metric_scores[-1].append(('{:.3f}'.format(np.mean(bm25_ndcg))+'±'+'{:.3f}'.format(np.std(bm25_ndcg)), '{:.3f}'.format(np.mean(tfidf_ndcg))+'±'+'{:.3f}'.format(np.std(tfidf_ndcg)), float('{:.4f}'.format(stats.ttest_ind(tfidf_ndcg,bm25_ndcg,equal_var=False).pvalue))))\n"
   ]
  },
  {
   "cell_type": "code",
   "execution_count": null,
   "id": "11a10589-b20c-4785-9cde-6c5470df5f34",
   "metadata": {},
   "outputs": [],
   "source": [
    "metric_scores.append(['', '', '', '', '', '', '', ''])"
   ]
  },
  {
   "cell_type": "code",
   "execution_count": null,
   "id": "83a0ebdd-26a6-4860-bcef-4427f53bcecc",
   "metadata": {},
   "outputs": [],
   "source": [
    "metric_scores.append(['Mean Average Precision']+[('{:.3f}'.format(np.mean(bm25_average_precision[idx]))+'±'+'{:.3f}'.format(np.std(bm25_average_precision[idx])), '{:.3f}'.format(np.mean(tfidf_average_precision[idx]))+'±'+'{:.3f}'.format(np.std(tfidf_average_precision[idx])), float('{:.4f}'.format(stats.ttest_ind(tfidf_average_precision[idx],bm25_average_precision[idx],equal_var=False).pvalue))) for idx in range(7)])"
   ]
  },
  {
   "cell_type": "code",
   "execution_count": null,
   "id": "c1997f60-ffe9-41c0-906f-d18c1e97e8d3",
   "metadata": {},
   "outputs": [],
   "source": [
    "metric_scores_df = pd.DataFrame(metric_scores, columns = ['Metric', '1', '2-3', '4-5', '6-10', '11-20', '21-inf', 'ALL'])\n",
    "metric_scores_df.to_csv('running_avg_NEW_FORMAT.csv', index=False)"
   ]
  },
  {
   "cell_type": "code",
   "execution_count": null,
   "id": "35ca159a-a672-4d20-ad6d-158f80fa2700",
   "metadata": {},
   "outputs": [],
   "source": []
  },
  {
   "cell_type": "code",
   "execution_count": null,
   "id": "288b8d14-a320-467b-a732-e84b6a681ec9",
   "metadata": {},
   "outputs": [],
   "source": [
    "#ignore this\n",
    "\n",
    "from math import sqrt\n",
    "from statsmodels.stats.power import TTestIndPower\n",
    "  \n",
    "#calculation of effect size\n",
    "# size of samples in pilot study\n",
    "n1, n2 = 13002, 49790\n",
    "  \n",
    "# variance of samples in pilot study\n",
    "s1, s2 = 12.353**2, 12.295**2\n",
    "  \n",
    "# calculate the pooled standard deviation \n",
    "# (Cohen's d)\n",
    "s = sqrt(((n1 - 1) * s1 + (n2 - 1) * s2) / (n1 + n2 - 2))\n",
    "  \n",
    "# calculate the effect size\n",
    "d = (0.206) / s\n",
    "print(f'Effect size: {d}')\n",
    "  \n",
    "# factors for power analysis\n",
    "alpha = 0.1\n",
    "power = 0.8\n",
    "  \n",
    "# perform power analysis to find sample size \n",
    "# for given effect\n",
    "obj = TTestIndPower()\n",
    "n = obj.solve_power(effect_size=d, alpha=alpha, power=power, \n",
    "                    ratio=1, alternative='two-sided')\n",
    "  \n",
    "print('Sample size/Number needed in each group: {:.3f}'.format(n))"
   ]
  },
  {
   "cell_type": "code",
   "execution_count": null,
   "id": "8935be5b-74e7-4552-9c48-f76b44de6f89",
   "metadata": {},
   "outputs": [],
   "source": [
    "from statsmodels.stats.power import TTestIndPower\n",
    "  \n",
    "\n",
    "power = TTestIndPower()\n",
    "n_test = power.solve_power(nobs1=n1/2+n2/2, effect_size = d,\n",
    "                           power = None, alpha = 0.05, ratio=1)"
   ]
  },
  {
   "cell_type": "code",
   "execution_count": null,
   "id": "69b93352-b8d7-4fe3-b8eb-8a5119a80a38",
   "metadata": {},
   "outputs": [],
   "source": [
    "n_test"
   ]
  },
  {
   "cell_type": "code",
   "execution_count": null,
   "id": "071a0267-e3ae-43f5-9833-52a939e1a79d",
   "metadata": {},
   "outputs": [],
   "source": [
    "n1/2+n2/2"
   ]
  },
  {
   "cell_type": "code",
   "execution_count": null,
   "id": "6065c251-568c-480e-a385-77e7a95f9bf2",
   "metadata": {},
   "outputs": [],
   "source": []
  }
 ],
 "metadata": {
  "kernelspec": {
   "display_name": "Python 3",
   "language": "python",
   "name": "python3"
  },
  "language_info": {
   "codemirror_mode": {
    "name": "ipython",
    "version": 3
   },
   "file_extension": ".py",
   "mimetype": "text/x-python",
   "name": "python",
   "nbconvert_exporter": "python",
   "pygments_lexer": "ipython3",
   "version": "3.8.8"
  }
 },
 "nbformat": 4,
 "nbformat_minor": 5
}
